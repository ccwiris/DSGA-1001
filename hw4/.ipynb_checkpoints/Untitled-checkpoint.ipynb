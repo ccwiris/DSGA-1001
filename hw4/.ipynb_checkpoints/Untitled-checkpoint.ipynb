{
 "cells": [
  {
   "cell_type": "code",
   "execution_count": 12,
   "metadata": {},
   "outputs": [
    {
     "data": {
      "text/plain": [
       "0"
      ]
     },
     "execution_count": 12,
     "metadata": {},
     "output_type": "execute_result"
    }
   ],
   "source": [
    "# Python program to find the longest substring with k unique \n",
    "# characters in a given string \n",
    "MAX_CHARS = 26\n",
    "  \n",
    "# This function calculates number of unique characters \n",
    "# using a associative array count[]. Returns true if \n",
    "# no. of characters are less than required else returns \n",
    "# false. \n",
    "def isValid(count, k): \n",
    "    val = 0\n",
    "    for i in range(MAX_CHARS): \n",
    "        if count[i] > 0: \n",
    "            val += 1\n",
    "  \n",
    "    # Return true if k is greater than or equal to val \n",
    "    return (k >= val) \n",
    "  \n",
    "# Finds the maximum substring with exactly k unique characters \n",
    "def kUniques(s, k): \n",
    "    u = 0    # number of unique characters \n",
    "    n = len(s) \n",
    "  \n",
    "    # Associative array to store the count \n",
    "    count = [0] * MAX_CHARS \n",
    "  \n",
    "    # Tranverse the string, fills the associative array \n",
    "    # count[] and count number of unique characters \n",
    "    for i in range(n): \n",
    "        if count[ord(s[i])-ord('a')] == 0: \n",
    "            u += 1\n",
    "        count[ord(s[i])-ord('a')] += 1\n",
    "  \n",
    "    # If there are not enough unique characters, show \n",
    "    # an error message. \n",
    "    if u < k or k == 0: \n",
    "        \n",
    "        return 0\n",
    "  \n",
    "    # Otherwise take a window with first element in it. \n",
    "    # start and end variables. \n",
    "    curr_start = 0\n",
    "    curr_end = 0\n",
    "  \n",
    "    # Also initialize values for result longest window \n",
    "    max_window_size = 1\n",
    "    max_window_start = 0\n",
    "  \n",
    "    # Initialize associative array count[] with zero \n",
    "    count = [0] * len(count) \n",
    "  \n",
    "    count[ord(s[0])-ord('a')] += 1    # put the first character \n",
    "  \n",
    "    # Start from the second character and add \n",
    "    # characters in window according to above \n",
    "    # explanation \n",
    "    for i in range(1,n): \n",
    "        # Add the character 's[i]' to current window \n",
    "        count[ord(s[i])-ord('a')] += 1\n",
    "        curr_end+=1\n",
    "  \n",
    "        # If there are more than k unique characters in \n",
    "        # current window, remove from left side \n",
    "        while not isValid(count, k): \n",
    "            count[ord(s[curr_start])-ord('a')] -= 1\n",
    "            curr_start += 1\n",
    "  \n",
    "        # Update the max window size if required \n",
    "        if curr_end-curr_start+1 > max_window_size: \n",
    "            max_window_size = curr_end-curr_start+1\n",
    "            max_window_start = curr_start \n",
    "  \n",
    "    print(\"Max substring is : \" + s[max_window_start:]\n",
    "            + \" with length \" + str(max_window_size)) \n",
    "  \n",
    "# Driver function \n",
    "s = \"aabacbebebe\"\n",
    "k = 0\n",
    "kUniques(s, k)"
   ]
  },
  {
   "cell_type": "code",
   "execution_count": 15,
   "metadata": {},
   "outputs": [
    {
     "ename": "NameError",
     "evalue": "name 'inputStream' is not defined",
     "output_type": "error",
     "traceback": [
      "\u001b[0;31m---------------------------------------------------------------------------\u001b[0m",
      "\u001b[0;31mNameError\u001b[0m                                 Traceback (most recent call last)",
      "\u001b[0;32m<ipython-input-15-80e584014f6f>\u001b[0m in \u001b[0;36m<module>\u001b[0;34m\u001b[0m\n\u001b[1;32m     14\u001b[0m \u001b[0;34m\u001b[0m\u001b[0m\n\u001b[1;32m     15\u001b[0m \u001b[0mlongest\u001b[0m \u001b[0;34m=\u001b[0m \u001b[0;34m\"\"\u001b[0m\u001b[0;34m\u001b[0m\u001b[0;34m\u001b[0m\u001b[0m\n\u001b[0;32m---> 16\u001b[0;31m \u001b[0;32mfor\u001b[0m \u001b[0mi\u001b[0m \u001b[0;32min\u001b[0m \u001b[0mrange\u001b[0m\u001b[0;34m(\u001b[0m\u001b[0mlen\u001b[0m\u001b[0;34m(\u001b[0m\u001b[0minputStream\u001b[0m\u001b[0;34m)\u001b[0m\u001b[0;34m)\u001b[0m\u001b[0;34m:\u001b[0m\u001b[0;34m\u001b[0m\u001b[0;34m\u001b[0m\u001b[0m\n\u001b[0m\u001b[1;32m     17\u001b[0m     \u001b[0modd_substr\u001b[0m \u001b[0;34m=\u001b[0m \u001b[0mgetPalindrom\u001b[0m\u001b[0;34m(\u001b[0m\u001b[0minputStream\u001b[0m\u001b[0;34m,\u001b[0m \u001b[0mi\u001b[0m\u001b[0;34m,\u001b[0m \u001b[0mi\u001b[0m\u001b[0;34m)\u001b[0m\u001b[0;34m\u001b[0m\u001b[0;34m\u001b[0m\u001b[0m\n\u001b[1;32m     18\u001b[0m     \u001b[0;32mif\u001b[0m \u001b[0mlen\u001b[0m\u001b[0;34m(\u001b[0m\u001b[0modd_substr\u001b[0m\u001b[0;34m)\u001b[0m \u001b[0;34m>\u001b[0m \u001b[0mlen\u001b[0m\u001b[0;34m(\u001b[0m\u001b[0mlongest\u001b[0m\u001b[0;34m)\u001b[0m\u001b[0;34m:\u001b[0m\u001b[0;34m\u001b[0m\u001b[0;34m\u001b[0m\u001b[0m\n",
      "\u001b[0;31mNameError\u001b[0m: name 'inputStream' is not defined"
     ]
    }
   ],
   "source": [
    "## Longest palindrome substring\n",
    "## input: abcbx return bcb\n",
    "## input: xyzzyabc return yzzy\n",
    "\n",
    "def longestPalindromicSubstring(inputStream):\n",
    "    ## WRITE YOUR CODE HERE\n",
    "    if not inputStream:\n",
    "        return \"\"\n",
    "def getPalindrom(string, left, right):\n",
    "    while left >= 0 and right < len(string) and string[left == right]:\n",
    "        left = left - 1\n",
    "        right = right + 1\n",
    "    return string[left+1, right]\n",
    "    \n",
    "longest = \"\"\n",
    "for i in range(len(inputStream)):\n",
    "    odd_substr = getPalindrom(inputStream, i, i)\n",
    "    if len(odd_substr) > len(longest):\n",
    "        longest = odd_substr\n",
    "    \n",
    "    even_substr = getPalindrom(inputStream, i, i+1)\n",
    "    if len(even_substr) > len(longest):\n",
    "        longest = even_substr\n",
    "    \n",
    "return longest\n",
    "\n",
    "s = 'abcdx'\n",
    "getPalindrom(s)"
   ]
  },
  {
   "cell_type": "code",
   "execution_count": null,
   "metadata": {},
   "outputs": [],
   "source": []
  }
 ],
 "metadata": {
  "kernelspec": {
   "display_name": "Python 3",
   "language": "python",
   "name": "python3"
  },
  "language_info": {
   "codemirror_mode": {
    "name": "ipython",
    "version": 3
   },
   "file_extension": ".py",
   "mimetype": "text/x-python",
   "name": "python",
   "nbconvert_exporter": "python",
   "pygments_lexer": "ipython3",
   "version": "3.7.1"
  }
 },
 "nbformat": 4,
 "nbformat_minor": 2
}
