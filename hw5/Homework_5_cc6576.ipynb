{
 "cells": [
  {
   "cell_type": "markdown",
   "metadata": {},
   "source": [
    "# Introduction to Data Science\n",
    "## Homework 5"
   ]
  },
  {
   "cell_type": "markdown",
   "metadata": {},
   "source": [
    "Student Name: Chengwei Chen\n",
    "\n",
    "Student Netid: cc6576\n",
    "***"
   ]
  },
  {
   "cell_type": "markdown",
   "metadata": {},
   "source": [
    "### Part 1: Naive Bayes (5 Points)"
   ]
  },
  {
   "cell_type": "markdown",
   "metadata": {},
   "source": [
    "1\\. From your reading you know that the naive Bayes classifier works by calculating the conditional probabilities of each feature, $e_i$, occuring with each class $c$ and treating them independently. This results in the probability of a certain class occuring given a set of features, or a piece of evidence, $E$, as\n",
    "\n",
    "$$P(c \\mid E) = \\frac{p(e_1 \\mid c) \\cdot p(e_2 \\mid c) \\cdot \\cdot \\cdot p(e_k \\mid c) \\cdot p(c)}{p(E)}.$$\n",
    "\n",
    "The conditional probability of each piece of evidence occuring with a given class is given by\n",
    "\n",
    "$$P(e_i \\mid c) = \\frac{\\text{count}(e_i, c)}{\\text{count}(c)}.$$\n",
    "\n",
    "In the above equation $\\text{count}(e_i, c)$ is the number of documents in a given class that contain feature $e_i$ and $\\text{count}(c)$ is the number of documents that belong to class $c$. \n",
    "\n",
    "A common variation of the above is to use Laplace (sometimes called +1) smoothing. Recall the use of Laplace smoothing introduced toward the end of Chapter 3 in the section Probability Estimation. This is done in sklearn by setting `alpha=1` in the `BernoulliNB()` function (this is also the default behavior). The result of Laplace smoothing will slightly change the conditional probabilities,\n",
    "\n",
    "$$P(e_i \\mid c) = \\frac{\\text{count}(e_i, c) + 1}{\\text{count}(c) + 2}.$$\n",
    "\n",
    "In no more than **one paragraph**, describe why this is useful, and use the bias-variance tradeoff to justify its use. Try to think of a case when not using Laplace smoothing would result in \"bad\" models. Try to give an example. Be precise."
   ]
  },
  {
   "cell_type": "markdown",
   "metadata": {},
   "source": [
    "Answer here!\n",
    "\n",
    "Laplace smoothing is useful especially when we have unknown words in test set, but not appear in training set. For instance, if the number of documents in a given class $c$ that contain feature $e_i$ is zero, which means ${\\text{count}}{(e_i, c)} = 0$ and then the probability of that document being in any class would be 0, so the idea of Laplace smoothing could adjust data so that zeros become some more or less arbitrary small values."
   ]
  },
  {
   "cell_type": "markdown",
   "metadata": {},
   "source": [
    "### Part 2: Text classification for sentiment analysis (20 Points)\n",
    "For this part of the assignment, we are going to use a data set of movie ratings from IMDB.com. The data consists of the text of a movie review and a target variable which tells us whether the reviewer had a positive feeling towards the movie (equivalent to rating the movie between 7 and 10) or a negative feeling (rating the movie between 1 and 4). Neutral reactions are not included in the data.\n",
    "\n",
    "The first column is the review text; the second is the text label 'P' for positive or 'N' for negative."
   ]
  },
  {
   "cell_type": "markdown",
   "metadata": {},
   "source": [
    "1 (1 Point) \\. Load the data into a pandas `DataFrame()`."
   ]
  },
  {
   "cell_type": "code",
   "execution_count": 2,
   "metadata": {},
   "outputs": [
    {
     "data": {
      "text/html": [
       "<div>\n",
       "<style scoped>\n",
       "    .dataframe tbody tr th:only-of-type {\n",
       "        vertical-align: middle;\n",
       "    }\n",
       "\n",
       "    .dataframe tbody tr th {\n",
       "        vertical-align: top;\n",
       "    }\n",
       "\n",
       "    .dataframe thead th {\n",
       "        text-align: right;\n",
       "    }\n",
       "</style>\n",
       "<table border=\"1\" class=\"dataframe\">\n",
       "  <thead>\n",
       "    <tr style=\"text-align: right;\">\n",
       "      <th></th>\n",
       "      <th>Text</th>\n",
       "      <th>Class</th>\n",
       "    </tr>\n",
       "  </thead>\n",
       "  <tbody>\n",
       "    <tr>\n",
       "      <th>0</th>\n",
       "      <td>'One of the first of the best musicals Anchors...</td>\n",
       "      <td>P</td>\n",
       "    </tr>\n",
       "    <tr>\n",
       "      <th>1</th>\n",
       "      <td>'Visually disjointed and full of itself the di...</td>\n",
       "      <td>N</td>\n",
       "    </tr>\n",
       "    <tr>\n",
       "      <th>2</th>\n",
       "      <td>'These type of movies about young teenagers st...</td>\n",
       "      <td>P</td>\n",
       "    </tr>\n",
       "    <tr>\n",
       "      <th>3</th>\n",
       "      <td>'I would rather of had my eyes gouged out with...</td>\n",
       "      <td>N</td>\n",
       "    </tr>\n",
       "    <tr>\n",
       "      <th>4</th>\n",
       "      <td>'The title says it all. Tail Gunner Joe was a ...</td>\n",
       "      <td>N</td>\n",
       "    </tr>\n",
       "  </tbody>\n",
       "</table>\n",
       "</div>"
      ],
      "text/plain": [
       "                                                Text Class\n",
       "0  'One of the first of the best musicals Anchors...     P\n",
       "1  'Visually disjointed and full of itself the di...     N\n",
       "2  'These type of movies about young teenagers st...     P\n",
       "3  'I would rather of had my eyes gouged out with...     N\n",
       "4  'The title says it all. Tail Gunner Joe was a ...     N"
      ]
     },
     "execution_count": 2,
     "metadata": {},
     "output_type": "execute_result"
    }
   ],
   "source": [
    "# Code here\n",
    "import pandas as pd \n",
    "data = pd.read_csv(\"imdb.csv\")\n",
    "data = data.dropna()\n",
    "data.head()"
   ]
  },
  {
   "cell_type": "markdown",
   "metadata": {},
   "source": [
    "2 (1 Point)\\. Code the target variable to be numeric: use the value `1` to represent 'P' and `0` to represent 'N'."
   ]
  },
  {
   "cell_type": "code",
   "execution_count": 3,
   "metadata": {},
   "outputs": [
    {
     "data": {
      "text/html": [
       "<div>\n",
       "<style scoped>\n",
       "    .dataframe tbody tr th:only-of-type {\n",
       "        vertical-align: middle;\n",
       "    }\n",
       "\n",
       "    .dataframe tbody tr th {\n",
       "        vertical-align: top;\n",
       "    }\n",
       "\n",
       "    .dataframe thead th {\n",
       "        text-align: right;\n",
       "    }\n",
       "</style>\n",
       "<table border=\"1\" class=\"dataframe\">\n",
       "  <thead>\n",
       "    <tr style=\"text-align: right;\">\n",
       "      <th></th>\n",
       "      <th>Text</th>\n",
       "      <th>Class</th>\n",
       "    </tr>\n",
       "  </thead>\n",
       "  <tbody>\n",
       "    <tr>\n",
       "      <th>0</th>\n",
       "      <td>'One of the first of the best musicals Anchors...</td>\n",
       "      <td>1</td>\n",
       "    </tr>\n",
       "    <tr>\n",
       "      <th>1</th>\n",
       "      <td>'Visually disjointed and full of itself the di...</td>\n",
       "      <td>0</td>\n",
       "    </tr>\n",
       "    <tr>\n",
       "      <th>2</th>\n",
       "      <td>'These type of movies about young teenagers st...</td>\n",
       "      <td>1</td>\n",
       "    </tr>\n",
       "    <tr>\n",
       "      <th>3</th>\n",
       "      <td>'I would rather of had my eyes gouged out with...</td>\n",
       "      <td>0</td>\n",
       "    </tr>\n",
       "    <tr>\n",
       "      <th>4</th>\n",
       "      <td>'The title says it all. Tail Gunner Joe was a ...</td>\n",
       "      <td>0</td>\n",
       "    </tr>\n",
       "  </tbody>\n",
       "</table>\n",
       "</div>"
      ],
      "text/plain": [
       "                                                Text  Class\n",
       "0  'One of the first of the best musicals Anchors...      1\n",
       "1  'Visually disjointed and full of itself the di...      0\n",
       "2  'These type of movies about young teenagers st...      1\n",
       "3  'I would rather of had my eyes gouged out with...      0\n",
       "4  'The title says it all. Tail Gunner Joe was a ...      0"
      ]
     },
     "execution_count": 3,
     "metadata": {},
     "output_type": "execute_result"
    }
   ],
   "source": [
    "# Code here\n",
    "data['Class'] = data.apply(lambda x:1 if x['Class'] == \"P\" else 0, axis = 1)\n",
    "data.head()"
   ]
  },
  {
   "cell_type": "markdown",
   "metadata": {},
   "source": [
    "3 (2 Points)\\. Put all of the text into a data frame called `X` and the target variable in a data frame called `Y`. Make a train/test split where you give 75% of the data to training. Feel free to use any function from sklearn."
   ]
  },
  {
   "cell_type": "code",
   "execution_count": 4,
   "metadata": {},
   "outputs": [],
   "source": [
    "#Code here\n",
    "from sklearn.model_selection import train_test_split\n",
    "\n",
    "X = pd.DataFrame(data['Text'])\n",
    "Y = pd.DataFrame(data['Class'])\n",
    "\n",
    "X_train, X_test, Y_train, Y_test = train_test_split(X, Y, train_size = 0.75)\n",
    "#X_train.head()\n",
    "#X_train.shape"
   ]
  },
  {
   "cell_type": "markdown",
   "metadata": {},
   "source": [
    "4 (5 Points)\\. Create a binary `CountVectorizer()` and a binary `TfidfVectorizer()`. Use the original single words as well as bigrams (in the same model). Also, use an \"english\" stop word list. Fit these to the training data to extract a vocabulary and then transform both the train and test data. Hint - look at the API documentation for both vectorizers to see what we mean by \"binary.\""
   ]
  },
  {
   "cell_type": "code",
   "execution_count": 5,
   "metadata": {},
   "outputs": [],
   "source": [
    "from sklearn.feature_extraction.text import CountVectorizer\n",
    "from sklearn.feature_extraction.text import TfidfVectorizer\n",
    "\n",
    "count_binary = CountVectorizer(binary = True, stop_words = 'english', ngram_range=(1, 2))\n",
    "X_train_count_binary = count_binary.fit_transform(X_train['Text'])\n",
    "X_test_count_binary = count_binary.transform(X_test['Text'])\n",
    "\n",
    "tfidf_binary = TfidfVectorizer(binary = True, stop_words = 'english', ngram_range=(1, 2))\n",
    "X_train_tfidf_binary = tfidf_binary.fit_transform(X_train['Text'])\n",
    "X_test_tfidf_binary = tfidf_binary.transform(X_test['Text'])\n",
    "#print(X_train_count_binary)\n",
    "#print(X_train_tfidf_binary)"
   ]
  },
  {
   "cell_type": "markdown",
   "metadata": {},
   "source": [
    "5 (6 Points)\\. Create `LogisticRegression()` and `BernoulliNB()` models. For all settings, keep the default values. In a single plot, show the AUC curve for both classifiers and both vectorizers defined above. In the legend, include the area under the ROC curve (AUC). Do not forget to label your axes. Your final plot will be a single window with 4 curves.\n",
    "\n",
    "Which model do you think does a better job? Why? Explain in no more than a paragraph.\n",
    "\n",
    "Extra credit (2 points): Do any of the options perform identically? If so, can you explain why?"
   ]
  },
  {
   "cell_type": "code",
   "execution_count": 6,
   "metadata": {},
   "outputs": [],
   "source": [
    "# Run this so your plots show properly\n",
    "import matplotlib.pyplot as plt\n",
    "%matplotlib inline\n",
    "plt.rcParams['figure.figsize'] = 12, 12"
   ]
  },
  {
   "cell_type": "code",
   "execution_count": 7,
   "metadata": {},
   "outputs": [
    {
     "data": {
      "image/png": "[encoded data removed]",
      "text/plain": [
       "<Figure size 432x288 with 1 Axes>"
      ]
     },
     "metadata": {
      "needs_background": "light"
     },
     "output_type": "display_data"
    }
   ],
   "source": [
    "from sklearn.linear_model import LogisticRegression\n",
    "from sklearn.naive_bayes import BernoulliNB\n",
    "from sklearn import metrics\n",
    "import numpy as np\n",
    "\n",
    "# Code here\n",
    "d = {\"count_vec_binary\": (X_train_count_binary, X_test_count_binary), \n",
    "     \"tfidf_vec_binary\": (X_train_tfidf_binary, X_test_tfidf_binary)}\n",
    "lr = LogisticRegression(solver='lbfgs')\n",
    "\n",
    "for i in d:\n",
    "    lr.fit(d[i][0], Y_train['Class'])\n",
    "    train_predict = lr.predict_proba(d[i][1])[:, 1]\n",
    "    fpr, tpr, threshold = metrics.roc_curve(Y_test['Class'], train_predict)\n",
    "    auc = metrics.auc(fpr, tpr)\n",
    "    randc = (np.random.rand(), np.random.rand(), np.random.rand(), np.random.rand())\n",
    "    plt.plot(fpr, tpr, color = randc, label = \"LR\" + \" \" + i + \"(auc: \" + str(auc) + \")\")\n",
    "\n",
    "ber = BernoulliNB()\n",
    "for i in d:\n",
    "    ber.fit(d[i][0], Y_train['Class'])\n",
    "    train_predict = ber.predict_proba(d[i][1])[:, 1]\n",
    "    fpr, tpr, threshold = metrics.roc_curve(Y_test['Class'], train_predict)\n",
    "    auc = metrics.auc(fpr, tpr)\n",
    "    randc = (np.random.rand(), np.random.rand(), np.random.rand(), np.random.rand())\n",
    "    plt.plot(fpr, tpr, color = randc, label = \"Ber\" + \" \" + i + \"(auc: \" + str(auc) + \")\")\n",
    "plt.title(\"AUC\")\n",
    "plt.xlabel('FPR')\n",
    "plt.ylabel('TPR')\n",
    "plt.legend()\n",
    "plt.show()\n"
   ]
  },
  {
   "cell_type": "code",
   "execution_count": 10,
   "metadata": {},
   "outputs": [
    {
     "name": "stdout",
     "output_type": "stream",
     "text": [
      "<class 'pandas.core.frame.DataFrame'>\n"
     ]
    }
   ],
   "source": [
    "print(type(Y_test))"
   ]
  },
  {
   "cell_type": "markdown",
   "metadata": {},
   "source": [
    "Explanation here!\n",
    "1. From the AUC graph, the logistic regression on binary tfidf vectorizer performs better as it obtains the highest AUC score. However, Bernoulli Naive Bayes holds independence assumption and in this case the features(words) are not independent to each other. Rather, they depend on the context or previous word or even previous word of the previous word. \n",
    "\n",
    "2. (Extra Credit) The Bernoulli on binary count vectorizer and binary tfidf vectorizer perform identically because in Bernoulli Naive Bayes model, the target variable is binary(0 or 1) which is exactly the count vectorizer, and the model treats every non-zero number as 1 in tfidf vectorizer; therefore, they yield the same result. "
   ]
  },
  {
   "cell_type": "markdown",
   "metadata": {
    "collapsed": true
   },
   "source": [
    "5\\. Use the model from question 4 that you think did the best job and predict the rating of the test data. Find 5 examples were labeled positive, but were incorrectly classified as negative. Print out the reviews below and include an explanation as to why you think it may have been incorrectly classified. You can pick any 5. They do not have to be at random."
   ]
  },
  {
   "cell_type": "code",
   "execution_count": 8,
   "metadata": {
    "scrolled": false
   },
   "outputs": [
    {
     "name": "stderr",
     "output_type": "stream",
     "text": [
      "/Users/chengweichen/anaconda3/lib/python3.7/site-packages/sklearn/utils/validation.py:724: DataConversionWarning: A column-vector y was passed when a 1d array was expected. Please change the shape of y to (n_samples, ), for example using ravel().\n",
      "  y = column_or_1d(y, warn=True)\n"
     ]
    },
    {
     "name": "stdout",
     "output_type": "stream",
     "text": [
      "Review:  'No one would argue that this 1945 war film was a masterpiece. (How could any 1945 war film be a masterpiece?) And yet this is an extremely effective telling of a true story that of Al Schmidt blinded on Guadalcanal as played by John Garfield who spent days wearing a blindfold to capture the nuances of a blind persons actions. Robert Leckie in Helmet for My Pillowdenigrates Schmidts popularity in favor of his foxhole mate who was killed writing that the country must have needed live heroes.  Well I suppose the country did. And they had one here. There is a single combat scene in the movie bound to the studio lot lasting only ten minutes or so and occurring less than halfway through the film instead of being saved for the climax but it is the scariest and most realistic depiction of men under fire that I can remember having seen on screen including those in Saving Private Ryan. Men yell with fear scream at each other and at the enemy and bleed and die without the aid of color stereophonic sound squibs or gore. Simply from a technological point of view the film is outstanding. It isnt just that we learn how complicated a mechanism a .30 caliber water-cooled Browning machine gun is or that it must be fired in bursts of only a few rounds or that it isnt waved around like a fire hose as in so many other war movies. The technical precision adds to the scenes riveting quality. The need to stick to short bursts is horrifying when dozens of shrieking enemies are pouring across a creek fifty feet away with the sole aim of exterminating you and your two isolated comrades confined to a small gun emplacement.  The performances are solid if not bravura including those of the ubiquitous 1940s support John Ridgeley and a radiant youthful Eleanor Parker. The framing love story is spare but it works and ultimately is quite moving. A striking dream sequence is included. Its not Bunuel but for a routine 1945 film it stands out as original and effective.  Albert Maltz may have overwritten the script or it may have been altered by someone else. It could have used the kind of pruning that might have introduced some much needed ambiguity. Still there are odd verbal punctuations that have a surprising impact on the viewer -- Why dont God strike me dead? And In the eyes Lee. Get em in the eyes! Depths of anguish in a few corny words. And a surprising amount of bitterness expressed by wounded veterans in a 1945 war film.  Notes that might seem false to a contemporary viewer but perhaps shouldnt: the dated vernacular which its difficult to believe many of todays kids could think was actually ever spoken -- private gab dope drip Gee you dumb coot dame a swell guy and feeling sorry for yourself. Let us consider the historical context and be kind in our judgments. At the time some of this goofy lingo was at the cutting edge.  Real weak points? The wounded veterans get together and argue with each other about how much of a collective future they have and the argument is oversimply resolved with a conclusion along the lines of Just because you have a silver plate in your head doesnt mean people will think youre a bad person. There are sometimes voice overs and silent prayers that are both unnecessary and downright unimaginative. Please God let him return to me and that sort of thing.  Well the film makers were operating within the constraints of their times. Maybe thats why the final fade is on a shot of Independence Hall and the inspiring strains of America the Beautiful swell in the back.  None of this can undo the films virtues which are considerable particularly the impact of that horrifying combat scene. Its not on television that often. If you have a chance by all means catch it.' \n",
      "\n",
      "Review:  'Hollow Man starts as brilliant but flawed scientist Dr. Sebastian Caine (Kevin Bacon) finally works out how to make things visible again after having been turned invisible by his own serum. They test the serum on an already invisible Gorilla & it works perfectly Caine & his team of assistants celebrate but while he should report the breakthrough to his military backers Caine wants to be the first invisible human. He manages to persuade his team to help him & the procedure works well & Caine becomes invisible however when they try to bring him back the serum fails & he remain invisible. The team desperately search for an antidote but nothing works Caine slowly starts to lose his grip on reality as he realises what power he has but is unable to use it being trapped in a laboratory. But then again hes invisible right he can do anything he wants... Directed by Paul Verhoeven I rather liked Hollow Man. You know its just after Christmas I saw this a few hours ago on late night/early morning cable TV & worst of all I feel sick not because of the film but because of the chocolates & fizzy pop Ive had over the past week so Ill keep this one brief. The script by Andrew W. Marlowe has a decent pace about but it does drag a little during the middle & has a good central premise it takes he basic idea that being invisible will make you insane just like in the original The Invisible Man (1933) film which Hollow Man obviously owes a fair bit. It manages to have a petty successful blend of horror sci-fi & action & provide good entertainment value for 110 odd minutes. I thought the characters were OK I thought some of the ideas in the film were good although I think its generally known that Verhoeven doesnt deal in subtlety the first thing he has the invisible Caine do is sexually molest one of his team & then when he gets into the outside world he has Caine rape a woman with the justification whos going to know that Caine says to himself. Then of course theres the gore he shows a rat being torn apart & thats just the opening scene after the credits to be fair to him the violence is a bit more sparse this time around but still has a quite nasty & sadistic tone about it. Having said that I love horror/gore/exploitation films so Hollow Man delivers for me its just that it might not be everyones cup of tea. Director Verhoeven does a great job or should that be the special effects boys make him look good. The special effects in Hollow Man really are spectacular & more-or-less flawless their brilliant & its as simple & straight forward as that. Theres some good horror & action set-pieces here as well even if the climatic fight is a little over-the-top. I love the effect where Kevin Bacon disappears one layer at a time complete with veins organs & bones on full show or when the reverse happens with the Gorilla. Theres a few gory moments including a rat being eaten someone is impaled on a spike & someone has their head busted open with blood splattering results. With a staggering budget of about $95000000 Hollow Man is technically faultless I can imagine the interviews on the DVD where some special effects boffin says they mapped Bacons entire body out right down to he last vein which they actually did because you know everyone watching would notice if one of his veins were missing or in the wrong position wouldnt they? The acting was OK Bacon made for a good mad scientist anti-hero type guy. Hollow Man is one of hose big budget Hollwood extravaganzas where the effects & action take center stage over any sort of meaningful story or characters but to be brutally honest sometimes we all like that in a film well I know I do. Good solid big budget entertainment with a slightly nastier & darker streak than the usual Hollywood product definitely worth a watch.' \n",
      "\n",
      "Review:  'Gotta start with Ed Furlong on this one. You gotta. God bless this kid. $5 bucks says the character he plays in this film is what hes really like in real life. He has a one-liner or two that made me almost blow snot because of the subtle humor in the script. You know all the trials this guy has gone through in recent years and it doesnt even seem like Furlong is even acting. Maybe thats why his performance was good. Same with Madsen. You keep thinking I bet this guy is really like this in real life. Does Madsen even have to act? Just natural. Vosloo has obviously moved on from the type-casted Mummy guy. I think the biggest surprise to this film was Jordana Spiros performance. Her reactions are spot-on in this film. I battled if she was hot or not but realized I would just like to see more of her.  Not a big fan of shoot em out/hostage type films. But what I am a fan of are films with lots of twists and turns to try and keep you guessing. Its not just your standard robbers take over a bank they kill hostages and the good guys win in the end type of film. The twists keep on coming...and coming. The café scenes work best with the hand-held cams to show what its really like in there. Not glossed over a bit. Think like Bourne Ultimatum lite style on some scenes in the café. And for those Bo Bice fanatics out there - actor Curtis Wayne (who plays Karl) will make you do a double take. These guys are twins. As I watched I wondered why some of the actors had foreign accents and what were they doing in this small town. Made sense in the end that these people smuggled stuff to other countries/states so they might have these accents. But more is revealed in the bonus features of how some of the producers wanted to make this film for International audiences with some of their stars we might not have heard of. And some of them are smoking hot. Moncia Dean? Need I say more.' \n",
      "\n",
      "Review:  'There are many kinds of reunion shows. One kind is where old actors are taken out of mothballs and set to recreate characters they havent played for twenty or thirty years. These have mixed results. `Return to Mayberry despite some silliness was okay; `Return to Green Acres as execrable (Eddie Albert used a word for the script I wont repeat here but both it and the movie stink); `Rescue from Gilligans Island filled in a necessary gap in the story of the castaways though the show itself was silly even from a `Gilligans Island viewpoint. In most cases the scripts are weak; sometimes a silliness appears in the scripts that is too knowing  and in comedy its nearly always fatal for the characters to know theyre being funny. New characters are introduced who dont fit the mix. In the main these reunion shows are pretty weak. A second sort of `reunion show is the kind where the cast lays its past aside but sits around telling stories reminiscing interspersed with flashbacks from the shows. Then there are movies based on the shows which are rarely good; and movies based on the history of the show (`The Brady Bunch has had both of these happen to it with various results). `Return to the Batcave uses nearly all the above with a wonderfully twisted viewpoint which makes it the best of the reunion shows and has raised the bar for the others. Adam West and Burt Ward and summoned to a showing of the original Batmobile. While they are there the car is stolen.  The Adam West of the movie is a man demented. He called Jerry his butler `Alfred. He opens a bust of Shakespeare in his apartment and reveals a hidden pole to slide down to the parking garage. Hes obsessed with being a crime fighter when in fact hes merely a washed up actor. When the Batmobile is stolen he not only believes its his duty as a crime fighter to recover it he drags and unwilling Burt Ward in as his assistant. The pursuit is largely loquacious with West and Ward reminiscing about the old days. It is broken by `flashbacks with actors playing West and Ward in the old days. The modern scenes and the `flashbacks both have the wacky lack of reality the show maintained. There are also running gags that show West is able to make fun of himself: in Wards book about his time on the show he spoke frankly about Wests libido and also his being a skinflint (West makes Ward pay for everything in their pursuit down to tips and bus fare). The clues they follow the characters they meet (even in flashback) all fit the mentality of the old series and there are several homages including a fist fight with written sound effects. The whole thing is extremely funny and done with great panache. There are also cameos by Julie Newmar (looking like shes had one facelift too many) and Frank Gorshin reminding us why he has such a cult following. Gorshin will be the Riddler when Jim Carey his obvious successor is long forgotten. The movie builds to a fairly obvious but funny climax. This show is a model for reunion shows  unfortunately there are few that can fit the pattern. This show had actors replaying their old characters; young actors playing a movie about the making of the show; the actors West and Ward reminiscing; and a modern-day movie with the real Adam West playing the demented Adam West. It has everything. If you loved the old show this is the stopper on the bottle.' \n",
      "\n",
      "Review:  'People call this a comedy but when I just watched it I laughed only once. I guess the problem is that I first saw it when I was 14 and I wasnt old enough to understand that it wasnt meant to be taken seriously. There were quite a few scenes that were meant to be funny but I cared too much about the characters to laugh at them. I suggest that you watch this film next time youre falling in love and try to take it seriously. I think youll find that despite a few silly flaws its one of the most moving love stories youve ever seen.' \n",
      "\n"
     ]
    }
   ],
   "source": [
    "# Code here to display 5 incorrect reviews.\n",
    "clfr = LogisticRegression(solver='lbfgs')\n",
    "clfr.fit(X_train_tfidf_binary, Y_train)\n",
    "pred = clfr.predict(X_test_tfidf_binary)\n",
    "count = 0\n",
    "\n",
    "for i in range(len(pred)):\n",
    "    if Y_test.iloc[i].values == 1 and pred[i] == 0:\n",
    "        count = count + 1\n",
    "        print(\"Review: \", X_test.iloc[i].values[0], \"\\n\")\n",
    "    if count >= 5:\n",
    "        break"
   ]
  },
  {
   "cell_type": "markdown",
   "metadata": {},
   "source": [
    "Explanation for the 5 reviews chosen here!\n",
    "\n",
    "1. The reviewer summarizes the movie at first with negative expression such as \"disappointed\" and uses a lot of negative words like \"not\" and question sentences, so it confuses the classifier and makes it to be a negative review.\n",
    "\n",
    "2. The reviewer holds neutral opinion and provides slightly negative comments about the movie in almost whole paragraph, besides the last sentence \"all in all this is a really good movie for just about all ages\", so the model classifier assumes this review as negative.  \n",
    "\n",
    "3. Similar to previous review, the reviewer criticizes the movie by using negative words like \"silly\" and \"implausible\" at the beginning, but the reviewer changes opinion afterwards and gives conclusion at the end \"I highly recommend this movie\". Therefore, like the last example the model classifier assumes this review as negative.\n",
    "\n",
    "4. This review is pretty neutral and we can't see any strong positive or negative opinions from reviewer. Mostly, the reviewer discusses the storyline of the movie series and the narrator of the movie. \n",
    "\n",
    "5. Similar to the second and third review examples, the reviewer doesn't give specific strong positive or negative expressions to the movie, but at the end we can see that the reviewer actually evaluates the movie as \"10 points\". I think that since the model classifier doesn't really understand the number, it just classifies this as negative.\n"
   ]
  },
  {
   "cell_type": "code",
   "execution_count": null,
   "metadata": {},
   "outputs": [],
   "source": []
  }
 ],
 "metadata": {
  "anaconda-cloud": {},
  "kernelspec": {
   "display_name": "Python 3",
   "language": "python",
   "name": "python3"
  },
  "language_info": {
   "codemirror_mode": {
    "name": "ipython",
    "version": 3
   },
   "file_extension": ".py",
   "mimetype": "text/x-python",
   "name": "python",
   "nbconvert_exporter": "python",
   "pygments_lexer": "ipython3",
   "version": "3.7.1"
  }
 },
 "nbformat": 4,
 "nbformat_minor": 1
}
