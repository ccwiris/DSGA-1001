{
 "cells": [
  {
   "cell_type": "markdown",
   "metadata": {},
   "source": [
    "# Introduction to Data Science\n",
    "## Homework 5"
   ]
  },
  {
   "cell_type": "markdown",
   "metadata": {},
   "source": [
    "Student Name: Chengwei Chen\n",
    "\n",
    "Student Netid: cc6576\n",
    "***"
   ]
  },
  {
   "cell_type": "markdown",
   "metadata": {},
   "source": [
    "### Part 1: Naive Bayes (5 Points)"
   ]
  },
  {
   "cell_type": "markdown",
   "metadata": {},
   "source": [
    "1\\. From your reading you know that the naive Bayes classifier works by calculating the conditional probabilities of each feature, $e_i$, occuring with each class $c$ and treating them independently. This results in the probability of a certain class occuring given a set of features, or a piece of evidence, $E$, as\n",
    "\n",
    "$$P(c \\mid E) = \\frac{p(e_1 \\mid c) \\cdot p(e_2 \\mid c) \\cdot \\cdot \\cdot p(e_k \\mid c) \\cdot p(c)}{p(E)}.$$\n",
    "\n",
    "The conditional probability of each piece of evidence occuring with a given class is given by\n",
    "\n",
    "$$P(e_i \\mid c) = \\frac{\\text{count}(e_i, c)}{\\text{count}(c)}.$$\n",
    "\n",
    "In the above equation $\\text{count}(e_i, c)$ is the number of documents in a given class that contain feature $e_i$ and $\\text{count}(c)$ is the number of documents that belong to class $c$. \n",
    "\n",
    "A common variation of the above is to use Laplace (sometimes called +1) smoothing. Recall the use of Laplace smoothing introduced toward the end of Chapter 3 in the section Probability Estimation. This is done in sklearn by setting `alpha=1` in the `BernoulliNB()` function (this is also the default behavior). The result of Laplace smoothing will slightly change the conditional probabilities,\n",
    "\n",
    "$$P(e_i \\mid c) = \\frac{\\text{count}(e_i, c) + 1}{\\text{count}(c) + 2}.$$\n",
    "\n",
    "In no more than **one paragraph**, describe why this is useful, and use the bias-variance tradeoff to justify its use. Try to think of a case when not using Laplace smoothing would result in \"bad\" models. Try to give an example. Be precise."
   ]
  },
  {
   "cell_type": "markdown",
   "metadata": {},
   "source": [
    "Answer here!\n",
    "\n",
    "Laplace smoothing is useful especially when we have unknown words in test set, but not appear in training set. For instance, if the number of documents in a given class $c$ that contain feature $e_i$ is zero, which means ${\\text{count}}{(e_i, c)} = 0$ and then the probability of that document being in any class would be 0, so the idea of Laplace smoothing could adjust data so that zeros become some more or less arbitrary small values."
   ]
  },
  {
   "cell_type": "markdown",
   "metadata": {},
   "source": [
    "### Part 2: Text classification for sentiment analysis (20 Points)\n",
    "For this part of the assignment, we are going to use a data set of movie ratings from IMDB.com. The data consists of the text of a movie review and a target variable which tells us whether the reviewer had a positive feeling towards the movie (equivalent to rating the movie between 7 and 10) or a negative feeling (rating the movie between 1 and 4). Neutral reactions are not included in the data.\n",
    "\n",
    "The first column is the review text; the second is the text label 'P' for positive or 'N' for negative."
   ]
  },
  {
   "cell_type": "markdown",
   "metadata": {},
   "source": [
    "1 (1 Point) \\. Load the data into a pandas `DataFrame()`."
   ]
  },
  {
   "cell_type": "code",
   "execution_count": 103,
   "metadata": {},
   "outputs": [
    {
     "data": {
      "text/html": [
       "<div>\n",
       "<style scoped>\n",
       "    .dataframe tbody tr th:only-of-type {\n",
       "        vertical-align: middle;\n",
       "    }\n",
       "\n",
       "    .dataframe tbody tr th {\n",
       "        vertical-align: top;\n",
       "    }\n",
       "\n",
       "    .dataframe thead th {\n",
       "        text-align: right;\n",
       "    }\n",
       "</style>\n",
       "<table border=\"1\" class=\"dataframe\">\n",
       "  <thead>\n",
       "    <tr style=\"text-align: right;\">\n",
       "      <th></th>\n",
       "      <th>Text</th>\n",
       "      <th>Class</th>\n",
       "    </tr>\n",
       "  </thead>\n",
       "  <tbody>\n",
       "    <tr>\n",
       "      <th>0</th>\n",
       "      <td>'One of the first of the best musicals Anchors...</td>\n",
       "      <td>P</td>\n",
       "    </tr>\n",
       "    <tr>\n",
       "      <th>1</th>\n",
       "      <td>'Visually disjointed and full of itself the di...</td>\n",
       "      <td>N</td>\n",
       "    </tr>\n",
       "    <tr>\n",
       "      <th>2</th>\n",
       "      <td>'These type of movies about young teenagers st...</td>\n",
       "      <td>P</td>\n",
       "    </tr>\n",
       "    <tr>\n",
       "      <th>3</th>\n",
       "      <td>'I would rather of had my eyes gouged out with...</td>\n",
       "      <td>N</td>\n",
       "    </tr>\n",
       "    <tr>\n",
       "      <th>4</th>\n",
       "      <td>'The title says it all. Tail Gunner Joe was a ...</td>\n",
       "      <td>N</td>\n",
       "    </tr>\n",
       "  </tbody>\n",
       "</table>\n",
       "</div>"
      ],
      "text/plain": [
       "                                                Text Class\n",
       "0  'One of the first of the best musicals Anchors...     P\n",
       "1  'Visually disjointed and full of itself the di...     N\n",
       "2  'These type of movies about young teenagers st...     P\n",
       "3  'I would rather of had my eyes gouged out with...     N\n",
       "4  'The title says it all. Tail Gunner Joe was a ...     N"
      ]
     },
     "execution_count": 103,
     "metadata": {},
     "output_type": "execute_result"
    }
   ],
   "source": [
    "# Code here\n",
    "import pandas as pd \n",
    "data = pd.read_csv(\"imdb.csv\")\n",
    "data = data.dropna()\n",
    "data.head()"
   ]
  },
  {
   "cell_type": "markdown",
   "metadata": {},
   "source": [
    "2 (1 Point)\\. Code the target variable to be numeric: use the value `1` to represent 'P' and `0` to represent 'N'."
   ]
  },
  {
   "cell_type": "code",
   "execution_count": 104,
   "metadata": {},
   "outputs": [
    {
     "data": {
      "text/html": [
       "<div>\n",
       "<style scoped>\n",
       "    .dataframe tbody tr th:only-of-type {\n",
       "        vertical-align: middle;\n",
       "    }\n",
       "\n",
       "    .dataframe tbody tr th {\n",
       "        vertical-align: top;\n",
       "    }\n",
       "\n",
       "    .dataframe thead th {\n",
       "        text-align: right;\n",
       "    }\n",
       "</style>\n",
       "<table border=\"1\" class=\"dataframe\">\n",
       "  <thead>\n",
       "    <tr style=\"text-align: right;\">\n",
       "      <th></th>\n",
       "      <th>Text</th>\n",
       "      <th>Class</th>\n",
       "    </tr>\n",
       "  </thead>\n",
       "  <tbody>\n",
       "    <tr>\n",
       "      <th>0</th>\n",
       "      <td>'One of the first of the best musicals Anchors...</td>\n",
       "      <td>1</td>\n",
       "    </tr>\n",
       "    <tr>\n",
       "      <th>1</th>\n",
       "      <td>'Visually disjointed and full of itself the di...</td>\n",
       "      <td>0</td>\n",
       "    </tr>\n",
       "    <tr>\n",
       "      <th>2</th>\n",
       "      <td>'These type of movies about young teenagers st...</td>\n",
       "      <td>1</td>\n",
       "    </tr>\n",
       "    <tr>\n",
       "      <th>3</th>\n",
       "      <td>'I would rather of had my eyes gouged out with...</td>\n",
       "      <td>0</td>\n",
       "    </tr>\n",
       "    <tr>\n",
       "      <th>4</th>\n",
       "      <td>'The title says it all. Tail Gunner Joe was a ...</td>\n",
       "      <td>0</td>\n",
       "    </tr>\n",
       "  </tbody>\n",
       "</table>\n",
       "</div>"
      ],
      "text/plain": [
       "                                                Text  Class\n",
       "0  'One of the first of the best musicals Anchors...      1\n",
       "1  'Visually disjointed and full of itself the di...      0\n",
       "2  'These type of movies about young teenagers st...      1\n",
       "3  'I would rather of had my eyes gouged out with...      0\n",
       "4  'The title says it all. Tail Gunner Joe was a ...      0"
      ]
     },
     "execution_count": 104,
     "metadata": {},
     "output_type": "execute_result"
    }
   ],
   "source": [
    "# Code here\n",
    "data['Class'] = data.apply(lambda x:1 if x['Class'] == \"P\" else 0, axis = 1)\n",
    "data.head()"
   ]
  },
  {
   "cell_type": "markdown",
   "metadata": {},
   "source": [
    "3 (2 Points)\\. Put all of the text into a data frame called `X` and the target variable in a data frame called `Y`. Make a train/test split where you give 75% of the data to training. Feel free to use any function from sklearn."
   ]
  },
  {
   "cell_type": "code",
   "execution_count": 105,
   "metadata": {},
   "outputs": [],
   "source": [
    "#Code here\n",
    "from sklearn.model_selection import train_test_split\n",
    "\n",
    "X = pd.DataFrame(data['Text'])\n",
    "Y = pd.DataFrame(data['Class'])\n",
    "\n",
    "X_train, X_test, Y_train, Y_test = train_test_split(X, Y, train_size = 0.75)\n",
    "#X_train.head()\n",
    "#X_train.shape"
   ]
  },
  {
   "cell_type": "markdown",
   "metadata": {},
   "source": [
    "4 (5 Points)\\. Create a binary `CountVectorizer()` and a binary `TfidfVectorizer()`. Use the original single words as well as bigrams (in the same model). Also, use an \"english\" stop word list. Fit these to the training data to extract a vocabulary and then transform both the train and test data. Hint - look at the API documentation for both vectorizers to see what we mean by \"binary.\""
   ]
  },
  {
   "cell_type": "code",
   "execution_count": 106,
   "metadata": {},
   "outputs": [],
   "source": [
    "from sklearn.feature_extraction.text import CountVectorizer\n",
    "from sklearn.feature_extraction.text import TfidfVectorizer\n",
    "\n",
    "count_binary = CountVectorizer(binary = True, stop_words = 'english', ngram_range=(1, 2))\n",
    "X_train_count_binary = count_binary.fit_transform(X_train['Text'])\n",
    "X_test_count_binary = count_binary.transform(X_test['Text'])\n",
    "\n",
    "tfidf_binary = TfidfVectorizer(binary = True, stop_words = 'english', ngram_range=(1, 2))\n",
    "X_train_tfidf_binary = tfidf_binary.fit_transform(X_train['Text'])\n",
    "X_test_tfidf_binary = tfidf_binary.transform(X_test['Text'])\n",
    "#print(X_train_count_binary)\n",
    "#print(X_train_tfidf_binary)"
   ]
  },
  {
   "cell_type": "markdown",
   "metadata": {},
   "source": [
    "5 (6 Points)\\. Create `LogisticRegression()` and `BernoulliNB()` models. For all settings, keep the default values. In a single plot, show the AUC curve for both classifiers and both vectorizers defined above. In the legend, include the area under the ROC curve (AUC). Do not forget to label your axes. Your final plot will be a single window with 4 curves.\n",
    "\n",
    "Which model do you think does a better job? Why? Explain in no more than a paragraph.\n",
    "\n",
    "Extra credit (2 points): Do any of the options perform identically? If so, can you explain why?"
   ]
  },
  {
   "cell_type": "code",
   "execution_count": 107,
   "metadata": {},
   "outputs": [],
   "source": [
    "# Run this so your plots show properly\n",
    "import matplotlib.pyplot as plt\n",
    "%matplotlib inline\n",
    "plt.rcParams['figure.figsize'] = 12, 12"
   ]
  },
  {
   "cell_type": "code",
   "execution_count": 108,
   "metadata": {},
   "outputs": [
    {
     "data": {
      "image/png": "[encoded data removed]",
      "text/plain": [
       "<Figure size 864x864 with 1 Axes>"
      ]
     },
     "metadata": {
      "needs_background": "light"
     },
     "output_type": "display_data"
    }
   ],
   "source": [
    "from sklearn.linear_model import LogisticRegression\n",
    "from sklearn.naive_bayes import BernoulliNB\n",
    "from sklearn import metrics\n",
    "import numpy as np\n",
    "\n",
    "# Code here\n",
    "d = {\"count_vec_binary\": (X_train_count_binary, X_test_count_binary), \n",
    "     \"tfidf_vec_binary\": (X_train_tfidf_binary, X_test_tfidf_binary)}\n",
    "lr = LogisticRegression(solver='lbfgs')\n",
    "\n",
    "for i in d:\n",
    "    lr.fit(d[i][0], Y_train['Class'])\n",
    "    train_predict = lr.predict_proba(d[i][1])[:, 1]\n",
    "    fpr, tpr, threshold = metrics.roc_curve(Y_test['Class'], train_predict)\n",
    "    auc = metrics.auc(fpr, tpr)\n",
    "    randc = (np.random.rand(), np.random.rand(), np.random.rand(), np.random.rand())\n",
    "    plt.plot(fpr, tpr, color = randc, label = \"LR\" + \" \" + i + \"(auc: \" + str(auc) + \")\")\n",
    "\n",
    "ber = BernoulliNB()\n",
    "for i in d:\n",
    "    ber.fit(d[i][0], Y_train['Class'])\n",
    "    train_predict = ber.predict_proba(d[i][1])[:, 1]\n",
    "    fpr, tpr, threshold = metrics.roc_curve(Y_test['Class'], train_predict)\n",
    "    auc = metrics.auc(fpr, tpr)\n",
    "    randc = (np.random.rand(), np.random.rand(), np.random.rand(), np.random.rand())\n",
    "    plt.plot(fpr, tpr, color = randc, label = \"Ber\" + \" \" + i + \"(auc: \" + str(auc) + \")\")\n",
    "plt.title(\"AUC\")\n",
    "plt.xlabel('FPR')\n",
    "plt.ylabel('TPR')\n",
    "plt.legend()\n",
    "plt.show()\n"
   ]
  },
  {
   "cell_type": "markdown",
   "metadata": {},
   "source": [
    "Explanation here!\n",
    "1. From the AUC graph, the logistic regression on binary tfidf vectorizer performs better as it obtains the highest AUC score. However, Bernoulli Naive Bayes holds independence assumption and in this case the features(words) are not independent to each other. Rather, they depend on the context or previous word or even previous word of the previous word. \n",
    "\n",
    "2. (Extra Credit) The Bernoulli on binary count vectorizer and binary tfidf vectorizer perform identically because in Bernoulli Naive Bayes model, the target variable is binary(0 or 1) which is exactly the count vectorizer, and the model treats every non-zero number as 1 in tfidf vectorizer; therefore, they yield the same result. "
   ]
  },
  {
   "cell_type": "markdown",
   "metadata": {
    "collapsed": true
   },
   "source": [
    "5\\. Use the model from question 4 that you think did the best job and predict the rating of the test data. Find 5 examples were labeled positive, but were incorrectly classified as negative. Print out the reviews below and include an explanation as to why you think it may have been incorrectly classified. You can pick any 5. They do not have to be at random."
   ]
  },
  {
   "cell_type": "code",
   "execution_count": 112,
   "metadata": {
    "scrolled": false
   },
   "outputs": [
    {
     "name": "stdout",
     "output_type": "stream",
     "text": [
      "Review:  'Having read Diamonds book I was slightly disappointed in the series but all in all it is quite informative. Reading the other comments it is comforting to know that the culture warriors are hard at work seeing attacks on Western Civilization under every rug. Is Diamond a little preachy ? Sure. Like a lot of academics he sees his theory as the most important thing ever. He uses the phrase guns germs and steel at seemingly every opportunity during the series. We get it after about the first 10 minutes. Is Diamond a little simplistic (in the series) ? Sure. The part about the Spaniards in South America is particularly amusing condensing some very long complicated history down to smallpox swords and horses wrapping up the whole conquest of South America in about 15 minutes. But the point remains valid - these things did in fact contribute (but not totally define) the reasons for the Spaniards success against the established cultures. Is he preaching *against* Western Civilization in any way ? Nope. Not a word. Not to my ear. All he says is that luck played a large part in determining which cultures advanced more quickly *not* that luck is the only reason. In the end if youre looking for something that validates your own sense of superiority then this series is not for you. But if you are interested in all of the factors than influence how societies succeed or fail this series presents a useful interpretation of the historical evidence.' \n",
      "\n",
      "Review:  'When you start watching this animation-masterpiece you quickly notice that its a European production. Although the Europeans have (sadly) integrated some of the clichés you would normally find in an American production of this kind most are missing. One of these is that there is an overwhelming evil that only our (very few and very unlikely) heroes can vanquish. Another is that one of the group is only in the business for the money is greedy runs away when the heat is up but somehow gives in to his better nature. This movie would have been better off without both. The movie is based upon a TV-Series that was out four years before the movie. Unlike the movie the TV-Series is a cartoon and not a computer animation. At first I thought the computer would kill the charm and character of the plot but I was quickliy convinced: Whoever did the animation knew his or her stuff! Although the characters are obviously fictional (in stills they dont even look real) they seem as alive and sentient as the audience following their quest. Making characters who by normal standards could be considered deformed (those micro-legs could never carry that giant body let alone make it jump) so alive and lovable is more than just a highlight! The creation of the world is another masterpiece. Not so much because of its looks but because of the inventiveness of it. The world our heroes travel is not solid like our own but is made of many pieces of land varying in shape and size that seem to be floating in mid air. When a person steps on a smaller fragment of ground it nods a little bit as if feathering from the weight. In some cases up and down no longer apply but our heroes still manage to get a foothold somewhere. Although the world of floating islands is completely surreal in this movie it is absolutely believable and after a short time it doesnt seem any weirder than running into a car somewhere in New York. I wrote that the looks of the world arent as breathtaking as the idea. As true as that might be to my mind the quality of the world the characters and the attention to details is staggering. Although the faces of the characters have relatively few attributes emotions can be read as clearly as in Sean Connerys or Dustin Hoffmans face. The world around the characters is wonderfully colourful and no two settings are alike. The background is always in motion something is always going on which makes the world seem even more alive. If you stop the movie and look at the background you will be surprised how many details you can find. The existence of Hector actually puts the cherry on top. Hector is a furry little thing (possibly the equivalent of a dog in our world) who is totally lovable and extremely funny. Although he isnt really important for the main plot he would be missed like Scrat would be in Ice Age. The really cool thing about Hector is that you need to speak Gibberish to understand him. If the movie is so great why didnt I give it 10 stars? Well the plot in itself was rather thin. Two hunters are sent out to rescue the world from a really bad dragon who wants to swallow the world isnt really original. That in itself wouldnt be much of a problem. What I missed was the background information. What kind of a dragon was this and why did it look that way? I love mythical stories but if they get too thin then they seem to be written after the movie is finished in a feeble attempt to give the whole thing some depth. Another thing I didnt like was Zoé. Although a little girl like her could be considered adorable she was somewhat of a pain in this movie. She seemed pretty resistant to all types of learning about reality kept dreaming of some hero from a story book and basically slowed the others down. She would have been OK if she had developed a little more and a little earlier in the movie - or had been less of a girly to start with. To me the idea of this girl who was there to twist the story a little backfired on the writers. All in all this is a really good movie for just about all ages.' \n",
      "\n",
      "Review:  'To be honest I had no idea what this movie was about when I started it. Thats how I watch movies whenever possible. No preconception. I thought this was going to be a movie about stoners in the woods or something. I was wrong kinda. Loaded was kind of boring at first but once it started to get going it really hooked me. I know the feeling of being sucked into something dangerous where you feel helpless but to do things that you do not want to do. Another user commented on how this movie was silly and implausible but I beg to differ. These kinds of things DO happen. Im sorry but not everyone lives in a dream world where nothing bad can happen and crazy situations are implausible. Really sorry but the reality of the WORLD is that they DO happen. The creator of this movie as well as the actors did a great job of portraying how things can just go bad and how people can make really bad choices. Sometimes things turn out good sometimes they turn out bad and such is life. I highly recommend this movie.' \n",
      "\n",
      "Review:  'This is one horror movie based TV show that gets it right. Friday the 13th the series had no connection to the movies. Poltergeist the legacy: Im not so sure. It may have been loosely connected to the movies. It feels like they just throw a famous title on a show so fans will watch it. It shows Freddy being burned by the Elm street parents(in the 1st episode I believe) and the amount of parents were disappointing. With all the kids he targeted in the 1st 3 movies youd expect there to be more parents. But oh well. Freddy is basically the narrator for the show. He watches the actions of people in the real world sometimes getting involved somehow. Just like other anthology shows like Tales from the crypt theres a supernatural or surprise ending twist involved. The acting lacks but believe it or not: the violence sometimes surpasses that of the movie. This show lasted a couple of seasons and was made around the time of the 4th movie. i heard it was canceled due to protesting parents. I watched a lot of R rated stuff as a kid so its a shame parents had to ruin it for everyone. 4 more movies came after the series  so it wasnt a total loss.' \n",
      "\n",
      "Review:  'Although i am inclined to agree with the other comments made by people who have seen this movie i am ashamed to say i rather like it. Not often can such a huge pile of 80s pap be found outside of a Wham! video so it is most definitely worth a viewing (£0.79 a night in my local store!). Watch out for the insanely obvious seams and zip on the monsters costume the fact that the hero looks a lot like Keith Chegwin and such classic lines as the following: Evil Wizard-Type Bloke: At last we meet Kor... Kor: Thrilling isnt it? Amazing!!I also like the fact that although the video box looks quite exciting with images of a castle surrounded by raging seas and a dangerous falcon-like bird carrying a handsome hero to safety (among other such interesting and engaging suggestions of what goes on in the actual film none of them actually happen. No Im not joking...there really isnt a raging sea or a ferocious bird its just trying to make you interested...classic in my opinion. This film gets 10 for pure entertainment value!!' \n",
      "\n"
     ]
    }
   ],
   "source": [
    "# Code here to display 5 incorrect reviews.\n",
    "clfr = LogisticRegression(solver='lbfgs')\n",
    "clfr.fit(X_train_tfidf_binary, Y_train)\n",
    "pred = clfr.predict(X_test_tfidf_binary)\n",
    "count = 0\n",
    "\n",
    "for i in range(len(pred)):\n",
    "    if Y_test.iloc[i].values == 1 and pred[i] == 0:\n",
    "        count = count + 1\n",
    "        print(\"Review: \", X_test.iloc[i].values[0], \"\\n\")\n",
    "    if count >= 5:\n",
    "        break"
   ]
  },
  {
   "cell_type": "markdown",
   "metadata": {},
   "source": [
    "Explanation for the 5 reviews chosen here!\n",
    "\n",
    "1. The reviewer summarizes the movie at first with negative expression such as \"disappointed\" and uses a lot of negative words like \"not\" and question sentences, so it confuses the classifier and makes it to be a negative review.\n",
    "\n",
    "2. The reviewer holds neutral opinion and provides slightly negative comments about the movie in almost whole paragraph, besides the last sentence \"all in all this is a really good movie for just about all ages\", so the model classifier assumes this review as negative.  \n",
    "\n",
    "3. Similar to previous review, the reviewer criticizes the movie by using negative words like \"silly\" and \"implausible\" at the beginning, but the reviewer changes opinion afterwards and gives conclusion at the end \"I highly recommend this movie\". Therefore, like the last example the model classifier assumes this review as negative.\n",
    "\n",
    "4. This review is pretty neutral and we can't see any strong positive or negative opinions from reviewer. Mostly, the reviewer discusses the storyline of the movie series and the narrator of the movie. \n",
    "\n",
    "5. Similar to the second and third review examples, the reviewer doesn't give specific strong positive or negative expressions to the movie, but at the end we can see that the reviewer actually evaluates the movie as \"10 points\". I think that since the model classifier doesn't really understand the number, it just classifies this as negative.\n"
   ]
  },
  {
   "cell_type": "code",
   "execution_count": null,
   "metadata": {},
   "outputs": [],
   "source": []
  }
 ],
 "metadata": {
  "anaconda-cloud": {},
  "kernelspec": {
   "display_name": "Python 3",
   "language": "python",
   "name": "python3"
  },
  "language_info": {
   "codemirror_mode": {
    "name": "ipython",
    "version": 3
   },
   "file_extension": ".py",
   "mimetype": "text/x-python",
   "name": "python",
   "nbconvert_exporter": "python",
   "pygments_lexer": "ipython3",
   "version": "3.7.1"
  }
 },
 "nbformat": 4,
 "nbformat_minor": 1
}
